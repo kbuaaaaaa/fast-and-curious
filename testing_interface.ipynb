{
 "cells": [
  {
   "cell_type": "markdown",
   "metadata": {},
   "source": [
    "# Student Interface\n",
    "\n",
    "## Introduction\n",
    "\n",
    "This repository contains a number of different independent projects. Each project is entirely separate from the others. Your goal is to optimise the code of each project. For each project there are three versions of the code:\n",
    "\n",
    "* A base version that is complete and fully functional, but may not be very fast. This is contained in the ```base``` directory.\n",
    "* An optimized version that is complete and fully functional, and is optimized for speed. This is contained in the ```sample_solution``` directory.\n",
    "* A version that is identical to the version in ```base```. This is the version you will work on to optimise. This is contained in the ```student``` directory.\n",
    "\n",
    "You should only edit the code in the ```student``` directory. In this file you will find descriptions each each project, and code which can run the tests for each project. You will gain points for each project depending on how much you have sped it up compared to the base version.\n",
    "\n",
    "## Scoring\n",
    "\n",
    "Each project will be tested with a number of different cases. Each case will pass a set of inputs to your code and and time it. The output of your code will also be tested for correctness. For each case, you will be awarded points according to the formula:\n",
    "\n",
    "$$\n",
    "p_{case} = \\log_{10}\\left(\\frac{t_{base}}{t_{student}}\\right)\n",
    "$$\n",
    "\n",
    "where $p_{case}$ is the number of points you will be awarded for that case, $t_{base}$ is the time taken by the base version of the code, and $t_{student}$ is the time taken by your version of the code. This means that if your code is 10x faster than the base version, you will get 1 point. If your code is 100x faster than the base version, you will get 2 points. If your code is slower than the base version, you will get 0 points. The number of points awarded per case has a minimum of 0 and a maximum of 5.\n",
    "\n",
    "Because the ratio of the time it takes for your code to run to the time it takes for the base code to run is used, the points you receive will approximately be the same regardless of the machine on which the code is run. Note that, if you re-run the tests on your machine, you may get different results each time, as a piece of code will have some variation in how long it takes to run.\n",
    "\n",
    "Once all cases have been run, you will gain a number of points for the project equal to the average of $p_{case}$ over all cases. If any case fails the check for correctness, you will receive 0 points for the whole project.\n",
    "\n",
    "Overall, you will receive a number of points equal to the sum of the points awarded for each project.\n",
    "\n",
    "## Rules/Guidance\n",
    "\n",
    "You may use a wide variety of tools and approaches to speed up the code. You may, in particular, want to considering using profiling tools to help you understand where the code is spending most of its time. You may use any module from the Python standard library, but may only use the other packages as specified in the file ```requirements.txt``` in the base directory of the project. You should avoid changing the interface of the main function being called for each project, as this will break the tests. You may, however, create new functions, classes or files, or reorganise existing ones.\n",
    "\n",
    "The directory ```sample_solution``` contains one possible solution to each project. When running each project, you will also see the running time of the sample solution. You may be able to beat the sample solution time. You should not look at th sample solution until you have have made your own attempt to optimise the code.\n",
    "\n",
    "You should avoid overly-specific optimisations aimed at purely passing the test cases, such as hard-coding the correct output. After your optimisations, your code should have the same functionality as the base version."
   ]
  },
  {
   "cell_type": "markdown",
   "metadata": {},
   "source": [
    "## Registering Your Repository\n",
    "\n",
    "Your group should:\n",
    "* [fork](https://docs.github.com/en/pull-requests/collaborating-with-pull-requests/working-with-forks/fork-a-repo) a copy of this repo\n",
    "* Set the repository to be [public](https://docs.github.com/en/repositories/managing-your-repositorys-settings-and-features/managing-repository-settings/setting-repository-visibility).\n",
    "* Add each member as a [collaborator](https://docs.github.com/en/account-and-profile/setting-up-and-managing-your-personal-account-on-github/managing-access-to-your-personal-repositories/inviting-collaborators-to-a-personal-repository). \n",
    "You should then each be able to start a codepace on this new repository and [push](https://code.visualstudio.com/docs/sourcecontrol/overview) changes to your repository. This will allow you all to collaborate. If you need help any of these steps, ask a tutor.\n",
    "\n",
    "When you have set up your repository, add your group name and a link to your repository to [this excel document](https://imperiallondon-my.sharepoint.com/:x:/g/personal/cmc310_ic_ac_uk/EceIPqoQ27pBhoRzVpR2EuEBsm3XHfkvDmxfAU3aNfAvnQ?e=sdv4Xo).\n",
    "\n"
   ]
  },
  {
   "cell_type": "markdown",
   "metadata": {},
   "source": [
    "## Auto-reloading Functions\n",
    "\n",
    "By default, Jupyter Notebooks will not re-import a function that has already been imported. This means if you make changes to a function in ```.py``` file, your notebook will still be using the old version. If you run the code cell below, it will modify this behaviour so the Jupyter notebook will re-import functions whenever a cell is run. We suggest running this cell before starting work on one of the projects to make sure you're using the most recent version of your code."
   ]
  },
  {
   "cell_type": "code",
   "execution_count": 10,
   "metadata": {},
   "outputs": [],
   "source": [
    "%load_ext autoreload\n",
    "%autoreload 2"
   ]
  },
  {
   "cell_type": "markdown",
   "metadata": {},
   "source": [
    "## Primes Project\n",
    "\n",
    "The file ```student/primes.py``` contains a function that generates prime numbers up to a given number. It will then write the prime numbers it finds to a file with a specified path. The main function is called ```write_primes```. The function takes two arguments: ```n``` is the maximum number up to which to find prime numbers, and ```path``` is the path to the file to which to write the prime numbers. The final output file may contain an extra blank line at the end, but this is not required."
   ]
  },
  {
   "cell_type": "code",
   "execution_count": null,
   "metadata": {},
   "outputs": [],
   "source": [
    "from student.primes import write_primes as student_function\n",
    "from student.primes import is_prime as student_function2\n",
    "\n",
    "%load_ext line_profiler\n",
    "%lprun -f student_function student_function(1000, 'testing_resources/reference_primes_1k.txt')\n",
    "%lprun -f student_function2 student_function2(1000)"
   ]
  },
  {
   "cell_type": "code",
   "execution_count": 11,
   "metadata": {},
   "outputs": [
    {
     "name": "stdout",
     "output_type": "stream",
     "text": [
      "===================================\n",
      "Project: Primes\n",
      "Description: Write primes under n to a specified file.\n",
      "===================================\n",
      "Case: Writing primes under 1,000\n",
      "Base Time: 0.0309s\n",
      "Sample Solution Time: 0.0015s\n",
      "Your Success: True\n",
      "Your Time: 7.8297e-04s\n",
      "Points: 1.5968\n",
      "-----------------------------------\n",
      "Case: Writing primes under 10,000\n",
      "Base Time: 0.0890s\n",
      "Sample Solution Time: 0.0239s\n",
      "Your Success: True\n",
      "Your Time: 0.0098s\n",
      "Points: 0.9571\n",
      "-----------------------------------\n",
      "Average Points: 1.2769 for Case \"Primes\"\n"
     ]
    }
   ],
   "source": [
    "from tests import test_primes\n",
    "\n",
    "test_primes();"
   ]
  },
  {
   "cell_type": "markdown",
   "metadata": {},
   "source": [
    "## Uncertain Cuboids Project\n",
    "\n",
    "The file ```student/uncertain_cuboids.py``` contains a function that calculates the mean and standard deviation of the volume of a cuboid for which there is some uncertainty in its dimensions. It does this by sampling the dimensions of the cuboid a large number of times, calculating the volume each time, and then calculating the mean and standard deviation of the volumes. This is an example of a [Monte Carlo simulation](https://en.wikipedia.org/wiki/Monte_Carlo_method). It is assumed that the probability distribution of each dimension is a uniform distribution.\n",
    "\n",
    "The main function is called ```calculate_volume_stats```. The function takes seven arguments:\n",
    "\n",
    "* ```n_sample``` is the number of samples to take.\n",
    "* ```length``` is the best-estimate of the length of the cuboid.\n",
    "* ```width``` is the best-estimate of the width of the cuboid.\n",
    "* ```height``` is the best-estimate of the height of the cuboid.\n",
    "* ```length_range``` is the range of the uniform distribution of the length.\n",
    "* ```width_range``` is the range of the uniform distribution of the width.\n",
    "* ```height_range``` is the range of the uniform distribution of the height.\n",
    "\n",
    "For the length of the cuboid, for example, the lower bound of the uniform distribution is ```length - length_range/2``` and the upper bound is ```length + length_range/2```. The function should return a tuple of two floats: the mean volume and the standard deviation of the volume."
   ]
  },
  {
   "cell_type": "code",
   "execution_count": null,
   "metadata": {},
   "outputs": [],
   "source": [
    "from tests import test_uncertain_cuboids\n",
    "\n",
    "test_uncertain_cuboids();"
   ]
  },
  {
   "cell_type": "markdown",
   "metadata": {},
   "source": [
    "## The Largest Inscribed Triangle Project"
   ]
  },
  {
   "cell_type": "markdown",
   "metadata": {},
   "source": [
    "A triangle inscribed in a circle means that all the three vertices of the triangle are on the circle. The file `student/largest_inscribed_triangle.py` contains two functions, one is for proving the pattern of an scribed triangle which holds the largest area in a circle, the other is to calculate the largest area of such an inscribed triangle. \n",
    "\n",
    "The proof function, `largest_triangle_proof`, takes 2 arguments:\n",
    "- `n`: for calculating the gradient of steps in the proof.\n",
    "- `radius`: radius of a given circle.\n",
    "\n",
    "The largest area calculation function, `largest_triangle_area`, takes 3 arguments:\n",
    "- `n`: for calculating the gradient of steps.\n",
    "- `radius`: radius of a given circle.\n",
    "- `h`: height of the inscribed triangle holds the largest area.\n",
    "\n",
    "`largest_triangle_proof` finds the coordinate of height `h` of the largest inscribed triangle with base as the diameter of the given circle, where origin is set to (0,0). `largest_triangle_area` uses the `h` found by the proof function and extends calculation to obtain the largest incribed triangle.\n"
   ]
  },
  {
   "cell_type": "code",
   "execution_count": null,
   "metadata": {},
   "outputs": [],
   "source": [
    "from tests import test_largest_triangle\n",
    "test_largest_triangle()"
   ]
  },
  {
   "cell_type": "markdown",
   "metadata": {},
   "source": [
    "## Fibonacci Project\n",
    "\n",
    "The file `student/fibonacci.py` contains a function that calculates the nth Fibonacci number using the recursive method. This function demonstrates the classic recursive approach to solving the Fibonacci sequence problem.\n",
    "\n",
    "A Fibonacci number is part of a sequence where each number is the sum of the two preceding ones, usually starting with 0 and 1. The sequence typically starts as 0, 1, 1, 2, 3, 5, 8, and so on.\n",
    "\n",
    "The main function is called `fibonacci`. The function takes one argument:\n",
    "\n",
    "* `n` is the position in the Fibonacci sequence to calculate. Must be a non-negative integer.\n",
    "\n",
    "The function returns an integer which is the nth Fibonacci number.\n"
   ]
  },
  {
   "cell_type": "code",
   "execution_count": 12,
   "metadata": {},
   "outputs": [
    {
     "name": "stdout",
     "output_type": "stream",
     "text": [
      "===================================\n",
      "Project: Fibonacci\n",
      "Description: Determine the nth fibonacci number.\n",
      "===================================\n",
      "Case: Finding fibonacci 1\n",
      "Base Time: 4.7684e-07s\n",
      "Sample Solution Time: 9.5367e-07s\n",
      "Your Success: True\n",
      "Your Time: 2.3842e-07s\n",
      "Points: 0.3010\n",
      "-----------------------------------\n",
      "Case: Finding fibonacci 10\n",
      "Base Time: 1.4305e-05s\n",
      "Sample Solution Time: 6.1989e-06s\n",
      "Your Success: True\n",
      "Your Time: 4.7684e-06s\n",
      "Points: 0.4771\n",
      "-----------------------------------\n",
      "Case: Finding fibonacci 35\n",
      "Base Time: 1.3963s\n",
      "Sample Solution Time: 1.4782e-05s\n",
      "Your Success: True\n",
      "Your Time: 6.4373e-06s\n",
      "Points: 5.0000\n",
      "-----------------------------------\n",
      "Average Points: 1.9261 for Case \"Fibonacci\"\n"
     ]
    }
   ],
   "source": [
    "from tests import test_fibonacci \n",
    "\n",
    "test_fibonacci();"
   ]
  },
  {
   "cell_type": "markdown",
   "metadata": {},
   "source": [
    "## Shuffling Cards Project\n",
    "\n",
    "The file `student/shuffling_cards.py` contains functions that perform various shuffling operations on a deck of cards. The main function determines the position (index) of a desired card after certain shuffling instructions have been carried out on a deck of variable size.\n",
    "\n",
    "A deck of cards in this context is a list of integers, typically starting from 0 up to `n-1`, where `n` is the number of cards. There is no limit to the size of a deck of cards.\n",
    "\n",
    "The main functions is called `find_card_position` This function takes **three arguments**:\n",
    "* `deck_size` is an integer representing the number of cards in the deck\n",
    "* `instructions` is a list of strings, which represent instructions. The following are possible:\n",
    "    - `\"shuffle\"` indicates the deck should be shuffled with a **Faro out-shuffle\\***\n",
    "    - `\"deal\"` indicates the deck should be dealt one card at a time to a new pile, reversing the deck\n",
    "    - `\"cut N\"` where N is a whole number, indicates the deck should cut, moving N cards to the bottom\n",
    "* `card` is an integer representing the card to be found\n",
    "\n",
    "The function **returns** the integer position (index) of a specific card in the deck after applying a series of instructions.\n",
    "\n",
    "**The main function must accept the three arguments above, and must return an integer**\n",
    "\n",
    "The following helper functions are available, and can be modified in any way: \n",
    "* `create_numbered_deck(n)`: This function creates a deck of cards numbered from 0 to `n-1`.\n",
    "\n",
    "* `cut(deck, n)`: This function performs a cut operation on the deck, moving the top `n` cards to the bottom.\n",
    "\n",
    "* `deal(deck)`: This function deals the deck to a new pile, reversing the order of the cards.\n",
    "\n",
    "* `faro_shuffle(deck)`: This function performs a **Faro out-shuffle\\*** on the deck, interleaving the cards perfectly.\n",
    "\n",
    "\n",
    "**\\* A Faro out-shuffle (also known as a perfect, or weave, out-shuffle) involves splitting the deck into two equal halves\n",
    "and then interleaving them perfectly (alternating one card from each half) starting with the top card of the original deck. This shuffle leaves the top card\n",
    "of the deck in its original position.**"
   ]
  },
  {
   "cell_type": "code",
   "execution_count": null,
   "metadata": {},
   "outputs": [],
   "source": [
    "from tests import test_shuffling_cards\n",
    "\n",
    "test_shuffling_cards();"
   ]
  },
  {
   "cell_type": "markdown",
   "metadata": {},
   "source": [
    "## Projectiles\n",
    "\n",
    "The file `student/projectiles.py` contains the function ```find_launch_angle``` which calculates the launch angle required for a projectile to hit a target at a given distance. This function takes five arguments:\n",
    "\n",
    "* ```mass``` is the mass of the projectile in kg.\n",
    "* ```velocity``` is the initial speed of the projectile in m/s.\n",
    "* ```distance``` is the distance to the target in m.\n",
    "* ```drag_coefficient``` is the drag coefficient of the projectile.\n",
    "* ```cross_section_area``` is the cross-sectional area of the projectile in m^2.\n",
    "\n",
    "The function should return the launch angle in degrees, correct to within $0.1^{o}$ of the correct answer. The drag force is given by:\n",
    "\n",
    "$$\n",
    "F_{\\text{drag}} = \\frac{1}{2} \\rho v^2 C_d A\n",
    "$$\n",
    "\n",
    "where $\\rho$ is the air density (1.293kg/m^3 ), $v$ is the velocity of the projectile, $C_d$ is the drag coefficient, and $A$ is the cross-sectional area of the projectile. The drag force acts in the opposite direction to the velocity of the projectile. The projectile is also affected by gravity, which causes an acceleration of 9.81m/s^2 directly downwards.\n",
    "\n",
    "You may assume that your function should find the angle which will hit the target and is less than 45 degrees."
   ]
  },
  {
   "cell_type": "code",
   "execution_count": 14,
   "metadata": {},
   "outputs": [
    {
     "name": "stdout",
     "output_type": "stream",
     "text": [
      "===================================\n",
      "Project: Projectiles\n",
      "Description: Calculate the launch angle of a projectile to hit a target at a given distance.\n",
      "===================================\n",
      "Case: Calculating the launch angle for a projectile with a mass of 100kg, a velocity of 10m/s, a target distance of 5000m, a drag coefficient of 0.4, and a cross-sectional area of 0.01m^2 to hit a target at 5000m\n",
      "Base Time: 0.1919s\n",
      "Sample Solution Time: 0.0014s\n",
      "Your Success: True\n",
      "Your Time: 0.3343s\n",
      "Points: 0.0000e+00\n",
      "-----------------------------------\n",
      "Case: Calculating the launch angle for a projectile with a mass of 100kg, a velocity of 100m/s, a target distance of 60m, a drag coefficient of 0.5, and a cross-sectional area of 0.01m^2 to hit a target at 60m\n",
      "Base Time: 0.0028s\n",
      "Sample Solution Time: 0.0091s\n",
      "Your Success: True\n",
      "Your Time: 0.0051s\n",
      "Points: 0.0000e+00\n",
      "-----------------------------------\n",
      "Case: Calculating the launch angle for a projectile with a mass of 0.1kg, a velocity of 100m/s, a target distance of 60m, a drag coefficient of 0.5, and a cross-sectional area of 0.01m^2 to hit a target at 60m\n",
      "Base Time: 0.1460s\n",
      "Sample Solution Time: 0.0119s\n",
      "Your Success: True\n",
      "Your Time: 0.1625s\n",
      "Points: 0.0000e+00\n",
      "-----------------------------------\n",
      "Case: Calculating the launch angle for a projectile with a mass of 10kg, a velocity of 100m/s, a target distance of 900m, a drag coefficient of 0.5, and a cross-sectional area of 0.001m^2 to hit a target at 900m\n",
      "Base Time: 1.0196s\n",
      "Sample Solution Time: 0.0096s\n",
      "Your Success: True\n",
      "Your Time: 1.7956s\n",
      "Points: 0.0000e+00\n",
      "-----------------------------------\n",
      "Average Points: 0.0000e+00 for Case \"Projectiles\"\n"
     ]
    }
   ],
   "source": [
    "from tests import test_projectiles\n",
    "\n",
    "test_projectiles();"
   ]
  },
  {
   "cell_type": "markdown",
   "metadata": {},
   "source": [
    "## Overview"
   ]
  },
  {
   "cell_type": "code",
   "execution_count": null,
   "metadata": {},
   "outputs": [],
   "source": [
    "from tests import run_tests\n",
    "\n",
    "run_tests()"
   ]
  },
  {
   "cell_type": "code",
   "execution_count": null,
   "metadata": {},
   "outputs": [],
   "source": []
  }
 ],
 "metadata": {
  "kernelspec": {
   "display_name": "Python 3",
   "language": "python",
   "name": "python3"
  },
  "language_info": {
   "codemirror_mode": {
    "name": "ipython",
    "version": 3
   },
   "file_extension": ".py",
   "mimetype": "text/x-python",
   "name": "python",
   "nbconvert_exporter": "python",
   "pygments_lexer": "ipython3",
   "version": "3.11.9"
  }
 },
 "nbformat": 4,
 "nbformat_minor": 2
}
